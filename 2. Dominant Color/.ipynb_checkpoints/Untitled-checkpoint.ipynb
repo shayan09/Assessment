{
 "cells": [
  {
   "cell_type": "code",
   "execution_count": 12,
   "metadata": {},
   "outputs": [],
   "source": [
    "import cv2\n",
    "import numpy as np\n",
    "from sklearn.cluster import KMeans\n",
    "import matplotlib.pyplot as plt\n",
    "from collections import Counter\n",
    "\n",
    "def find_percentage(clf):\n",
    "    numLabels = np.arange(0, len(np.unique(clf.labels_)) + 1)\n",
    "    values, _ = np.histogram(clt.labels_, bins=numLabels)\n",
    "\n",
    "    percent = (values/values.sum())*100\n",
    "\n",
    "    return percent"
   ]
  },
  {
   "cell_type": "code",
   "execution_count": 13,
   "metadata": {
    "scrolled": true
   },
   "outputs": [
    {
     "name": "stdout",
     "output_type": "stream",
     "text": [
      "[[ 19 142  52]\n",
      " [ 19 142  52]\n",
      " [ 19 142  52]\n",
      " ...\n",
      " [ 22 121 192]\n",
      " [ 22 121 192]\n",
      " [ 22 121 192]]\n",
      "[ 26.11400849 178.23371925 210.74785959]\n"
     ]
    }
   ],
   "source": [
    "image = cv2.imread('ipl.jpg')\n",
    "\n",
    "bgr = cv2.cvtColor(image, cv2.COLOR_BGR2HSV)\n",
    "\n",
    "img = bgr.reshape((bgr.shape[0] * bgr.shape[1], 3))\n",
    "print(img)\n",
    "clt = KMeans(n_clusters = 5)\n",
    "labels = clt.fit_predict(img)\n",
    "\n",
    "#count labels to find most popular\n",
    "label_counts = Counter(labels)\n",
    "\n",
    "#subset out most popular centroid\n",
    "dominant_color = clt.cluster_centers_[label_counts.most_common(1)[0][0]]\n",
    "print(dominant_color)"
   ]
  },
  {
   "cell_type": "code",
   "execution_count": 14,
   "metadata": {},
   "outputs": [
    {
     "name": "stdout",
     "output_type": "stream",
     "text": [
      "(210.74, -5798.890431999872, -37349.4502)\n"
     ]
    }
   ],
   "source": [
    "import colorsys\n",
    "test_color = colorsys.hsv_to_rgb(26.14,178.23,210.74)\n",
    "print(test_color)"
   ]
  },
  {
   "cell_type": "code",
   "execution_count": null,
   "metadata": {},
   "outputs": [],
   "source": []
  }
 ],
 "metadata": {
  "kernelspec": {
   "display_name": "Python 3",
   "language": "python",
   "name": "python3"
  },
  "language_info": {
   "codemirror_mode": {
    "name": "ipython",
    "version": 3
   },
   "file_extension": ".py",
   "mimetype": "text/x-python",
   "name": "python",
   "nbconvert_exporter": "python",
   "pygments_lexer": "ipython3",
   "version": "3.6.0"
  }
 },
 "nbformat": 4,
 "nbformat_minor": 2
}
