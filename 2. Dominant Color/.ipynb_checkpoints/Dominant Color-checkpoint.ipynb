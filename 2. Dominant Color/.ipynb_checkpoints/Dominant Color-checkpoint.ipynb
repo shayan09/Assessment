{
 "cells": [
  {
   "cell_type": "code",
   "execution_count": 11,
   "metadata": {},
   "outputs": [],
   "source": [
    "import cv2\n",
    "import numpy as np\n",
    "from sklearn.cluster import KMeans\n",
    "import matplotlib.pyplot as plt\n",
    "\n",
    "def find_percentage(clf):\n",
    "    labels = np.arange(0, len(np.unique(clf.labels_)) + 1)\n",
    "    values, _ = np.histogram(clf.labels_, bins=labels)\n",
    "\n",
    "    percent = (values/values.sum())*100\n",
    "\n",
    "    return percent"
   ]
  },
  {
   "cell_type": "code",
   "execution_count": 18,
   "metadata": {},
   "outputs": [
    {
     "name": "stdout",
     "output_type": "stream",
     "text": [
      "The percentage probability of the colors are: [86.02039931 13.97960069]\n",
      "[[102.97506787 137.77477823  63.90524175]\n",
      " [ 57.40075104  62.11960772  70.93879958]]\n",
      "The RGB composition of the color selected is: [102.97506787 137.77477823  63.90524175]\n"
     ]
    },
    {
     "data": {
      "image/png": "[encoded data removed]",
      "text/plain": [
       "<Figure size 432x288 with 1 Axes>"
      ]
     },
     "metadata": {
      "needs_background": "light"
     },
     "output_type": "display_data"
    },
    {
     "name": "stdout",
     "output_type": "stream",
     "text": [
      "The modified RGB composition of the color selected is: [102.97558157 179.10924661  47.92721022]\n"
     ]
    },
    {
     "data": {
      "image/png": "[encoded data removed]",
      "text/plain": [
       "<Figure size 432x288 with 1 Axes>"
      ]
     },
     "metadata": {
      "needs_background": "light"
     },
     "output_type": "display_data"
    }
   ],
   "source": [
    "image = cv2.imread('Images/football.jpg')\n",
    "\n",
    "bgr = cv2.cvtColor(image, cv2.COLOR_BGR2RGB)\n",
    "\n",
    "img = bgr.reshape((bgr.shape[0] * bgr.shape[1], 3))\n",
    "clf = KMeans(n_clusters=2)\n",
    "clf.fit(img)\n",
    "percentages = find_percentage(clf)\n",
    "print(f'The percentage probability of the colors are: {percentages}')\n",
    "\n",
    "maxi = 0\n",
    "for i,val in enumerate(percentages):\n",
    "    if val > maxi:\n",
    "        index = i\n",
    "        maxi = val\n",
    "\n",
    "print(clf.cluster_centers_)\n",
    "color = clf.cluster_centers_[index]\n",
    "print(f'The RGB composition of the color selected is: {color}')\n",
    "color /= color.sum()\n",
    "plt.title('Dominant Color')\n",
    "plt.bar(5, 5, color=tuple(color))\n",
    "plt.axis('off')\n",
    "plt.show()\n",
    "\n",
    "\n",
    "clf = KMeans(n_clusters=2)\n",
    "clf.fit(img)\n",
    "percentages = find_percentage(clf)\n",
    "\n",
    "maxi = 0\n",
    "for i,val in enumerate(percentages):\n",
    "    if val > maxi:\n",
    "        index = i\n",
    "        maxi = val\n",
    "\n",
    "color = clf.cluster_centers_[index]\n",
    "min_index = np.argmin(color)\n",
    "max_index = np.argmax(color)\n",
    "for i, x in np.ndenumerate(color):\n",
    "    if i == min_index:\n",
    "        if x < 40:\n",
    "            color[i] = x - x*0.1\n",
    "        elif x < 100:\n",
    "            color[i] = x - x*0.25\n",
    "        elif x < 220:\n",
    "            color[i] = x - x*0.7\n",
    "    elif i == max_index:\n",
    "        if x < 100: \n",
    "            color[i] = x + x*0.7\n",
    "        elif x < 150:\n",
    "            color[i] = x + x*0.3\n",
    "        elif x < 220:\n",
    "            color[i] = x + x*0.1\n",
    "print(f'The modified RGB composition of the color selected is: {color}')\n",
    "color /= color.sum()\n",
    "plt.title('Modified Dominant Color')\n",
    "plt.bar(5, 5, color=tuple(color))\n",
    "plt.axis('off')\n",
    "plt.show()"
   ]
  }
 ],
 "metadata": {
  "kernelspec": {
   "display_name": "Python 3",
   "language": "python",
   "name": "python3"
  },
  "language_info": {
   "codemirror_mode": {
    "name": "ipython",
    "version": 3
   },
   "file_extension": ".py",
   "mimetype": "text/x-python",
   "name": "python",
   "nbconvert_exporter": "python",
   "pygments_lexer": "ipython3",
   "version": "3.6.0"
  }
 },
 "nbformat": 4,
 "nbformat_minor": 2
}
